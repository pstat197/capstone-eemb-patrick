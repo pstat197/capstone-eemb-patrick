{
 "cells": [
  {
   "cell_type": "code",
   "execution_count": 1,
   "id": "941b69ec",
   "metadata": {
    "scrolled": false
   },
   "outputs": [
    {
     "name": "stdout",
     "output_type": "stream",
     "text": [
      "Requirement already satisfied: numpy in /Library/Frameworks/Python.framework/Versions/3.11/lib/python3.11/site-packages (1.24.1)\n",
      "Requirement already satisfied: opencv-contrib-python in /Library/Frameworks/Python.framework/Versions/3.11/lib/python3.11/site-packages (4.7.0.68)\n",
      "Requirement already satisfied: numpy>=1.21.2 in /Library/Frameworks/Python.framework/Versions/3.11/lib/python3.11/site-packages (from opencv-contrib-python) (1.24.1)\n"
     ]
    }
   ],
   "source": [
    "!pip3 install numpy\n",
    "!pip3 install opencv-contrib-python"
   ]
  },
  {
   "cell_type": "code",
   "execution_count": 2,
   "id": "f972028b",
   "metadata": {},
   "outputs": [
    {
     "name": "stdout",
     "output_type": "stream",
     "text": [
      "< cv2.legacy.TrackerMIL 0x10471e6b0>\n"
     ]
    }
   ],
   "source": [
    "import cv2\n",
    "\n",
    "tracker_types = ['BOOSTING', 'MIL', 'KCF', 'TLD', 'MEDIANFLOW', 'MOSSE', 'CSRT', 'GOTURN']\n",
    "tracker_type = tracker_types[1]\n",
    "\n",
    "if tracker_type == 'BOOSTING':\n",
    "    tracker = cv2.legacy.TrackerBoosting_create()\n",
    "elif tracker_type == 'MIL':\n",
    "    tracker = cv2.legacy.TrackerMIL_create()\n",
    "elif tracker_type == 'KCF':\n",
    "    tracker = cv2.legacy.TrackerKCF_create()\n",
    "elif tracker_type == 'TLD':\n",
    "    tracker = cv2.legacy.TrackerTLD_create()\n",
    "elif tracker_type == 'MEDIANFLOW':\n",
    "    tracker = cv2.legacy.TrackerMedianFlow_create()\n",
    "elif tracker_type == 'MOSSE':\n",
    "    tracker = cv2.legacy.TrackerMOSSE_create()\n",
    "elif tracker_type == 'CSRT':\n",
    "    tracker = cv2.legacy.TrackerCSRT_create()\n",
    "elif tracker_type == 'GOTURN':\n",
    "    tracker = cv2.legacy.TrackerGOTURN_create()\n",
    "\n",
    "# Change tracker_type index to check if objects are created:\n",
    "print(tracker)"
   ]
  },
  {
   "cell_type": "code",
   "execution_count": 3,
   "id": "4ba45d4f",
   "metadata": {},
   "outputs": [
    {
     "name": "stdout",
     "output_type": "stream",
     "text": [
      "Select a ROI and then press SPACE or ENTER button!\n",
      "Cancel the selection process by pressing c button!\n"
     ]
    }
   ],
   "source": [
    "# Get the video file and read it\n",
    "video = cv2.VideoCapture(r\"/Users/ashleyson/Desktop/PSTAT197BC/shrimp.MP4\")\n",
    "ret, frame = video.read()\n",
    "\n",
    "frame_height, frame_width = frame.shape[:2]\n",
    "# Resize the video for a more convinient view\n",
    "frame = cv2.resize(frame, [frame_width//2, frame_height//2])\n",
    "# Initialize video writer to save the results\n",
    "output = cv2.VideoWriter(f'{tracker_type}.avi', \n",
    "                         cv2.VideoWriter_fourcc(*'XVID'), 60.0, \n",
    "                         (frame_width//2, frame_height//2), True)\n",
    "if not ret:\n",
    "    print('cannot read the video')\n",
    "# Select the bounding box in the first frame\n",
    "bbox = cv2.selectROI(frame, False)\n",
    "ret = tracker.init(frame, bbox)\n",
    "# Start tracking\n",
    "while True:\n",
    "    ret, frame = video.read()\n",
    "    frame = cv2.resize(frame, [frame_width//2, frame_height//2])\n",
    "    if not ret:\n",
    "        print('something went wrong')\n",
    "        break\n",
    "    timer = cv2.getTickCount()\n",
    "    ret, bbox = tracker.update(frame)\n",
    "    fps = cv2.getTickFrequency() / (cv2.getTickCount() - timer)\n",
    "    if ret:\n",
    "        p1 = (int(bbox[0]), int(bbox[1]))\n",
    "        p2 = (int(bbox[0] + bbox[2]), int(bbox[1] + bbox[3]))\n",
    "        cv2.rectangle(frame, p1, p2, (255,0,0), 2, 1)\n",
    "    else:\n",
    "        cv2.putText(frame, \"Tracking failure detected\", (100,80), \n",
    "                    cv2.FONT_HERSHEY_SIMPLEX, 0.75,(0,0,255),2)\n",
    "    cv2.putText(frame, tracker_type + \" Tracker\", (100,20), \n",
    "                cv2.FONT_HERSHEY_SIMPLEX, 0.75, (50,170,50),2)\n",
    "    cv2.putText(frame, \"FPS : \" + str(int(fps)), (100,50), \n",
    "                cv2.FONT_HERSHEY_SIMPLEX, 0.75, (50,170,50),2)\n",
    "    cv2.imshow(\"Tracking\", frame)\n",
    "    output.write(frame)\n",
    "    k = cv2.waitKey(1) & 0xff\n",
    "    if k == 27 : break\n",
    "        \n",
    "video.release()\n",
    "output.release()\n",
    "cv2.destroyAllWindows()"
   ]
  },
  {
   "cell_type": "code",
   "execution_count": null,
   "id": "a263940f",
   "metadata": {},
   "outputs": [],
   "source": []
  },
  {
   "cell_type": "code",
   "execution_count": null,
   "id": "e8a5d10c",
   "metadata": {},
   "outputs": [],
   "source": []
  }
 ],
 "metadata": {
  "kernelspec": {
   "display_name": "Python 3",
   "language": "python",
   "name": "python3"
  },
  "language_info": {
   "codemirror_mode": {
    "name": "ipython",
    "version": 3
   },
   "file_extension": ".py",
   "mimetype": "text/x-python",
   "name": "python",
   "nbconvert_exporter": "python",
   "pygments_lexer": "ipython3",
   "version": "3.11.1"
  },
  "vscode": {
   "interpreter": {
    "hash": "aee8b7b246df8f9039afb4144a1f6fd8d2ca17a180786b69acc140d282b71a49"
   }
  }
 },
 "nbformat": 4,
 "nbformat_minor": 5
}
