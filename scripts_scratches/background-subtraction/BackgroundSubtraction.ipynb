{
 "cells": [
  {
   "cell_type": "code",
   "execution_count": 1,
   "id": "7d93a75f",
   "metadata": {},
   "outputs": [],
   "source": [
    "import cv2 as cv\n",
    "import numpy as np"
   ]
  },
  {
   "cell_type": "code",
   "execution_count": 38,
   "id": "9307ae93",
   "metadata": {},
   "outputs": [],
   "source": [
    "\n",
    "background = cv.imread('MotionTracking_Background.jpg')\n",
    "capture = cv.VideoCapture(\"MotionTracking_Video1.mp4\")\n",
    "\n",
    "ret, frame = capture.read()\n",
    "\n",
    "size = (frame.shape[1], frame.shape[0])\n",
    "\n",
    "# Convert background to required format\n",
    "background = cv.resize(background, size)\n",
    "grayBackground = cv.cvtColor(background, cv.COLOR_RGB2GRAY)\n",
    "grayBackgroundBlur = cv.GaussianBlur(grayBackground, (95,95),0)\n",
    "\n",
    "#processed = []\n",
    "out = cv.VideoWriter(\"BlackWhiteResult.avi\", cv.VideoWriter_fourcc(*'MJPG'), 29, size)\n",
    "\n",
    "while ret:\n",
    "\n",
    "    # Convert frame to required format\n",
    "    grayFrame = cv.cvtColor(frame, cv.COLOR_RGB2GRAY)\n",
    "    grayFrameBlur = cv.GaussianBlur(grayFrame, (105,105),0)\n",
    "\n",
    "    # Subtract the background\n",
    "    delta = cv.absdiff(grayBackgroundBlur, grayFrameBlur)\n",
    "    threshold = cv.threshold(delta, 135, 255, cv.THRESH_BINARY_INV+cv.THRESH_OTSU)[1]\n",
    "\n",
    "    # Record the processed image\n",
    "    #processed.append(threshold)\n",
    "    RGBMode = cv.cvtColor(threshold, cv.COLOR_GRAY2RGB)\n",
    "    out.write(RGBMode)\n",
    "\n",
    "    ret, frame = capture.read()\n",
    "\n",
    "capture.release()\n",
    "out.release()\n",
    "\n",
    "\n",
    "\n",
    "#for i in range(len(processed)):"
   ]
  },
  {
   "cell_type": "code",
   "execution_count": 34,
   "id": "ecff294d",
   "metadata": {},
   "outputs": [],
   "source": [
    "background = cv.imread('MotionTracking_Background.jpg')\n",
    "capture = cv.VideoCapture(\"MotionTracking_Video1.mp4\")\n",
    "\n",
    "ret, frame = capture.read()\n",
    "\n",
    "size = (frame.shape[1], frame.shape[0])\n",
    "\n",
    "# Convert background to required format\n",
    "background = cv.resize(background, size)\n",
    "grayBackground = cv.cvtColor(background, cv.COLOR_RGB2GRAY)\n",
    "grayBackgroundBlur = cv.GaussianBlur(grayBackground, (95,95),0)\n",
    "\n",
    "#processed = []\n",
    "out = cv.VideoWriter(\"ColoredResult.avi\", cv.VideoWriter_fourcc(*'MJPG'), 29, size)\n",
    "\n",
    "while ret:\n",
    "\n",
    "    # Convert frame to required format\n",
    "    grayFrame = cv.cvtColor(frame, cv.COLOR_RGB2GRAY)\n",
    "    grayFrameBlur = cv.GaussianBlur(grayFrame, (95,95),0)\n",
    "\n",
    "    # Subtract the background\n",
    "    delta = cv.absdiff(grayBackgroundBlur, grayFrameBlur)\n",
    "    threshold = cv.threshold(delta, 135, 255, cv.THRESH_BINARY_INV+cv.THRESH_OTSU)[1]\n",
    "\n",
    "    for i in range(threshold.shape[0]):\n",
    "        for j in range(threshold.shape[1]):\n",
    "            if threshold[i][j]==255:\n",
    "                grayFrame[i][j] = 0\n",
    "\n",
    "    # Record the processed image\n",
    "    #processed.append(threshold)\n",
    "    RGBMode = cv.cvtColor(grayFrame, cv.COLOR_GRAY2RGB)\n",
    "    out.write(RGBMode)\n",
    "\n",
    "    ret, frame = capture.read()\n",
    "\n",
    "capture.release()\n",
    "out.release()"
   ]
  }
 ],
 "metadata": {
  "kernelspec": {
   "display_name": "base",
   "language": "python",
   "name": "python3"
  },
  "language_info": {
   "codemirror_mode": {
    "name": "ipython",
    "version": 3
   },
   "file_extension": ".py",
   "mimetype": "text/x-python",
   "name": "python",
   "nbconvert_exporter": "python",
   "pygments_lexer": "ipython3",
   "version": "3.9.12"
  },
  "vscode": {
   "interpreter": {
    "hash": "699f0d5608a67a19c7001870c9ddbe2a02cb28825dbc0a4b5a7b9914fd4653ff"
   }
  }
 },
 "nbformat": 4,
 "nbformat_minor": 5
}
