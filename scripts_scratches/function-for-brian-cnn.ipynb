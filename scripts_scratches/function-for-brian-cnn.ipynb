{
 "cells": [
  {
   "cell_type": "markdown",
   "id": "f0f83fcd",
   "metadata": {},
   "source": [
    "# Function that generates the frames of when something important happens\n",
    "\n",
    "#### i.e. when the shrimp are \"close\" to each other\n",
    "#### The function takes in a dataframe that is outputted throug tracktor, and identifies when the two objectd are close to each other within a certain threshhold of distance"
   ]
  },
  {
   "cell_type": "code",
   "execution_count": 7,
   "id": "852da5e7",
   "metadata": {},
   "outputs": [],
   "source": [
    "# First, load necessary packages \n",
    "\n",
    "import numpy as np\n",
    "import pandas as pd\n",
    "import tracktor as tr\n",
    "import cv2\n",
    "import sys\n",
    "import matplotlib.pyplot as plt\n",
    "from sklearn.cluster import KMeans\n",
    "from scipy.optimize import linear_sum_assignment\n",
    "from scipy.spatial.distance import cdist"
   ]
  },
  {
   "cell_type": "code",
   "execution_count": 22,
   "id": "a8e5a1a8",
   "metadata": {},
   "outputs": [],
   "source": [
    "# Then, read in the CSV file\n",
    "\n",
    "ashley_test = pd.read_csv('/Users/lukefields/Downloads/BlackWhiteResultshrimp222_tracked.csv')"
   ]
  },
  {
   "cell_type": "markdown",
   "id": "46a19965",
   "metadata": {},
   "source": [
    "### This is our function, use 60 fps for the frames"
   ]
  },
  {
   "cell_type": "code",
   "execution_count": 23,
   "id": "9736c9c3",
   "metadata": {},
   "outputs": [],
   "source": [
    "def dist_between(dataframe, fps):    \n",
    "    for idx, ID in enumerate(np.unique(dataframe['id'])):\n",
    "        dataframe['id'][dataframe['id'] == ID] = idx\n",
    "        \n",
    "    distances = []\n",
    "    for fr in np.unique(dataframe['frame']):\n",
    "        tmp = dataframe[dataframe['frame'] == fr]\n",
    "        x = tmp[tmp['id'] == 0]['pos_x'].values[0] - tmp[tmp['id'] == 1]['pos_x'].values[0]\n",
    "        y = tmp[tmp['id'] == 0]['pos_y'].values[0] - tmp[tmp['id'] == 1]['pos_y'].values[0]\n",
    "        distances.append(np.sqrt(x**2 + y**2))\n",
    "        \n",
    "    timestamp = np.unique(dataframe['frame'])/fps\n",
    "    frame = np.unique(dataframe[\"frame\"])\n",
    "    \n",
    "    dist_df = pd.DataFrame([frame, timestamp, distances]).transpose()\n",
    "    dist_df.columns = [\"Frame\", \"Timestamp\", \"Distance\"]\n",
    "    \n",
    "    return dist_df"
   ]
  },
  {
   "cell_type": "code",
   "execution_count": 30,
   "id": "4eace534",
   "metadata": {
    "scrolled": true
   },
   "outputs": [
    {
     "name": "stderr",
     "output_type": "stream",
     "text": [
      "/var/folders/n2/x_q5fj895dg04jddh7fb9m000000gn/T/ipykernel_69967/1466635496.py:3: SettingWithCopyWarning: \n",
      "A value is trying to be set on a copy of a slice from a DataFrame\n",
      "\n",
      "See the caveats in the documentation: https://pandas.pydata.org/pandas-docs/stable/user_guide/indexing.html#returning-a-view-versus-a-copy\n",
      "  dataframe['id'][dataframe['id'] == ID] = idx\n"
     ]
    },
    {
     "data": {
      "text/html": [
       "<div>\n",
       "<style scoped>\n",
       "    .dataframe tbody tr th:only-of-type {\n",
       "        vertical-align: middle;\n",
       "    }\n",
       "\n",
       "    .dataframe tbody tr th {\n",
       "        vertical-align: top;\n",
       "    }\n",
       "\n",
       "    .dataframe thead th {\n",
       "        text-align: right;\n",
       "    }\n",
       "</style>\n",
       "<table border=\"1\" class=\"dataframe\">\n",
       "  <thead>\n",
       "    <tr style=\"text-align: right;\">\n",
       "      <th></th>\n",
       "      <th>Frame</th>\n",
       "      <th>Timestamp</th>\n",
       "      <th>Distance</th>\n",
       "    </tr>\n",
       "  </thead>\n",
       "  <tbody>\n",
       "    <tr>\n",
       "      <th>0</th>\n",
       "      <td>3.0</td>\n",
       "      <td>0.050000</td>\n",
       "      <td>126.321020</td>\n",
       "    </tr>\n",
       "    <tr>\n",
       "      <th>1</th>\n",
       "      <td>4.0</td>\n",
       "      <td>0.066667</td>\n",
       "      <td>122.200655</td>\n",
       "    </tr>\n",
       "    <tr>\n",
       "      <th>2</th>\n",
       "      <td>5.0</td>\n",
       "      <td>0.083333</td>\n",
       "      <td>124.145076</td>\n",
       "    </tr>\n",
       "    <tr>\n",
       "      <th>3</th>\n",
       "      <td>6.0</td>\n",
       "      <td>0.100000</td>\n",
       "      <td>127.192767</td>\n",
       "    </tr>\n",
       "    <tr>\n",
       "      <th>4</th>\n",
       "      <td>7.0</td>\n",
       "      <td>0.116667</td>\n",
       "      <td>127.251719</td>\n",
       "    </tr>\n",
       "    <tr>\n",
       "      <th>...</th>\n",
       "      <td>...</td>\n",
       "      <td>...</td>\n",
       "      <td>...</td>\n",
       "    </tr>\n",
       "    <tr>\n",
       "      <th>1626</th>\n",
       "      <td>1629.0</td>\n",
       "      <td>27.150000</td>\n",
       "      <td>706.385164</td>\n",
       "    </tr>\n",
       "    <tr>\n",
       "      <th>1627</th>\n",
       "      <td>1630.0</td>\n",
       "      <td>27.166667</td>\n",
       "      <td>710.371734</td>\n",
       "    </tr>\n",
       "    <tr>\n",
       "      <th>1628</th>\n",
       "      <td>1631.0</td>\n",
       "      <td>27.183333</td>\n",
       "      <td>706.223761</td>\n",
       "    </tr>\n",
       "    <tr>\n",
       "      <th>1629</th>\n",
       "      <td>1632.0</td>\n",
       "      <td>27.200000</td>\n",
       "      <td>711.130087</td>\n",
       "    </tr>\n",
       "    <tr>\n",
       "      <th>1630</th>\n",
       "      <td>1633.0</td>\n",
       "      <td>27.216667</td>\n",
       "      <td>712.205027</td>\n",
       "    </tr>\n",
       "  </tbody>\n",
       "</table>\n",
       "<p>1631 rows × 3 columns</p>\n",
       "</div>"
      ],
      "text/plain": [
       "       Frame  Timestamp    Distance\n",
       "0        3.0   0.050000  126.321020\n",
       "1        4.0   0.066667  122.200655\n",
       "2        5.0   0.083333  124.145076\n",
       "3        6.0   0.100000  127.192767\n",
       "4        7.0   0.116667  127.251719\n",
       "...      ...        ...         ...\n",
       "1626  1629.0  27.150000  706.385164\n",
       "1627  1630.0  27.166667  710.371734\n",
       "1628  1631.0  27.183333  706.223761\n",
       "1629  1632.0  27.200000  711.130087\n",
       "1630  1633.0  27.216667  712.205027\n",
       "\n",
       "[1631 rows x 3 columns]"
      ]
     },
     "execution_count": 30,
     "metadata": {},
     "output_type": "execute_result"
    }
   ],
   "source": [
    "# Now, simply apply the function to our dataframe of interest and assign it to a variable\n",
    "\n",
    "ashley_test_dist = dist_between(ashley_test, 60)\n",
    "ashley_test_dist"
   ]
  },
  {
   "cell_type": "markdown",
   "id": "6bba3a7a",
   "metadata": {},
   "source": [
    "### Cool, now we have every frame of the video corresponding to the distance between the two shrimp, but how do we know when they are close?"
   ]
  },
  {
   "cell_type": "code",
   "execution_count": 35,
   "id": "05d95dba",
   "metadata": {
    "scrolled": true
   },
   "outputs": [
    {
     "data": {
      "image/png": "[encoded data removed]",
      "text/plain": [
       "<Figure size 640x480 with 1 Axes>"
      ]
     },
     "metadata": {},
     "output_type": "display_data"
    }
   ],
   "source": [
    "# First, I like to graph the distance between the two bjects\n",
    "# That way, I can start to understand what is \"close\" in each scenario\n",
    "\n",
    "plt.scatter(ashley_test_dist[\"Timestamp\"], ashley_test_dist[\"Distance\"], c='#FF7F50', s=5, alpha=0.5)\n",
    "plt.xlabel('Time (s)', fontsize=16)\n",
    "plt.ylabel('Distance', fontsize=16)\n",
    "plt.tight_layout()\n",
    "plt.show()"
   ]
  },
  {
   "cell_type": "markdown",
   "id": "d01b86e6",
   "metadata": {},
   "source": [
    "#### In this case, it looks the objects are \"close\" when they are somewhere between 100 and 150 units away from each other, so I will account for that in the subsetting below"
   ]
  },
  {
   "cell_type": "code",
   "execution_count": 36,
   "id": "c8790dba",
   "metadata": {},
   "outputs": [
    {
     "data": {
      "text/html": [
       "<div>\n",
       "<style scoped>\n",
       "    .dataframe tbody tr th:only-of-type {\n",
       "        vertical-align: middle;\n",
       "    }\n",
       "\n",
       "    .dataframe tbody tr th {\n",
       "        vertical-align: top;\n",
       "    }\n",
       "\n",
       "    .dataframe thead th {\n",
       "        text-align: right;\n",
       "    }\n",
       "</style>\n",
       "<table border=\"1\" class=\"dataframe\">\n",
       "  <thead>\n",
       "    <tr style=\"text-align: right;\">\n",
       "      <th></th>\n",
       "      <th>Frame</th>\n",
       "      <th>Timestamp</th>\n",
       "      <th>Distance</th>\n",
       "    </tr>\n",
       "  </thead>\n",
       "  <tbody>\n",
       "    <tr>\n",
       "      <th>0</th>\n",
       "      <td>3.0</td>\n",
       "      <td>0.050000</td>\n",
       "      <td>126.321020</td>\n",
       "    </tr>\n",
       "    <tr>\n",
       "      <th>1</th>\n",
       "      <td>4.0</td>\n",
       "      <td>0.066667</td>\n",
       "      <td>122.200655</td>\n",
       "    </tr>\n",
       "    <tr>\n",
       "      <th>2</th>\n",
       "      <td>5.0</td>\n",
       "      <td>0.083333</td>\n",
       "      <td>124.145076</td>\n",
       "    </tr>\n",
       "    <tr>\n",
       "      <th>3</th>\n",
       "      <td>6.0</td>\n",
       "      <td>0.100000</td>\n",
       "      <td>127.192767</td>\n",
       "    </tr>\n",
       "    <tr>\n",
       "      <th>4</th>\n",
       "      <td>7.0</td>\n",
       "      <td>0.116667</td>\n",
       "      <td>127.251719</td>\n",
       "    </tr>\n",
       "    <tr>\n",
       "      <th>...</th>\n",
       "      <td>...</td>\n",
       "      <td>...</td>\n",
       "      <td>...</td>\n",
       "    </tr>\n",
       "    <tr>\n",
       "      <th>145</th>\n",
       "      <td>148.0</td>\n",
       "      <td>2.466667</td>\n",
       "      <td>133.304163</td>\n",
       "    </tr>\n",
       "    <tr>\n",
       "      <th>146</th>\n",
       "      <td>149.0</td>\n",
       "      <td>2.483333</td>\n",
       "      <td>133.240384</td>\n",
       "    </tr>\n",
       "    <tr>\n",
       "      <th>147</th>\n",
       "      <td>150.0</td>\n",
       "      <td>2.500000</td>\n",
       "      <td>131.308796</td>\n",
       "    </tr>\n",
       "    <tr>\n",
       "      <th>148</th>\n",
       "      <td>151.0</td>\n",
       "      <td>2.516667</td>\n",
       "      <td>136.367151</td>\n",
       "    </tr>\n",
       "    <tr>\n",
       "      <th>149</th>\n",
       "      <td>152.0</td>\n",
       "      <td>2.533333</td>\n",
       "      <td>132.457540</td>\n",
       "    </tr>\n",
       "  </tbody>\n",
       "</table>\n",
       "<p>150 rows × 3 columns</p>\n",
       "</div>"
      ],
      "text/plain": [
       "     Frame  Timestamp    Distance\n",
       "0      3.0   0.050000  126.321020\n",
       "1      4.0   0.066667  122.200655\n",
       "2      5.0   0.083333  124.145076\n",
       "3      6.0   0.100000  127.192767\n",
       "4      7.0   0.116667  127.251719\n",
       "..     ...        ...         ...\n",
       "145  148.0   2.466667  133.304163\n",
       "146  149.0   2.483333  133.240384\n",
       "147  150.0   2.500000  131.308796\n",
       "148  151.0   2.516667  136.367151\n",
       "149  152.0   2.533333  132.457540\n",
       "\n",
       "[150 rows x 3 columns]"
      ]
     },
     "execution_count": 36,
     "metadata": {},
     "output_type": "execute_result"
    }
   ],
   "source": [
    "# Then, we use that threshold to subset our dataframe into what we consider \n",
    "# Are the frames when there is something \"important\"\n",
    "# In this case, we saw from the graph that is somewhere between 100 and 150\n",
    "\n",
    "ashley_dist_imp = ashley_test_dist.loc[(ashley_test_dist[\"Distance\"] < 150) & \\\n",
    "                                       (ashley_test_dist[\"Distance\"] > 100)]\n",
    "ashley_dist_imp.head(150)"
   ]
  },
  {
   "cell_type": "code",
   "execution_count": 40,
   "id": "8361004c",
   "metadata": {},
   "outputs": [],
   "source": [
    "# Looks like we got frames 3 - 152, so we write this dataframe to a CSV file for the CNN"
   ]
  },
  {
   "cell_type": "code",
   "execution_count": 39,
   "id": "2b86b30d",
   "metadata": {},
   "outputs": [
    {
     "ename": "SyntaxError",
     "evalue": "invalid syntax (2029531862.py, line 5)",
     "output_type": "error",
     "traceback": [
      "\u001b[0;36m  Cell \u001b[0;32mIn[39], line 5\u001b[0;36m\u001b[0m\n\u001b[0;31m    output_filepath = # /Put/File/Path/Here\u001b[0m\n\u001b[0m                      ^\u001b[0m\n\u001b[0;31mSyntaxError\u001b[0m\u001b[0;31m:\u001b[0m invalid syntax\n"
     ]
    }
   ],
   "source": [
    "# Need to define the output_filepath where you want the dataframe we just derived stored\n",
    "# Then, write this dataframe to a csv file and voila, you can input it into your CNN hopefully\n",
    "\n",
    "\n",
    "output_filepath = # /Put/File/Path/Here\n",
    "ashley_dist_imp.to_csv(output_filepath, sep=',')"
   ]
  },
  {
   "cell_type": "code",
   "execution_count": null,
   "id": "0045b67b",
   "metadata": {},
   "outputs": [],
   "source": []
  }
 ],
 "metadata": {
  "kernelspec": {
   "display_name": "Python 3 (ipykernel)",
   "language": "python",
   "name": "python3"
  },
  "language_info": {
   "codemirror_mode": {
    "name": "ipython",
    "version": 3
   },
   "file_extension": ".py",
   "mimetype": "text/x-python",
   "name": "python",
   "nbconvert_exporter": "python",
   "pygments_lexer": "ipython3",
   "version": "3.11.1"
  }
 },
 "nbformat": 4,
 "nbformat_minor": 5
}
