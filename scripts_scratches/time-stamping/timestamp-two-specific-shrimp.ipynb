{
 "cells": [
  {
   "cell_type": "code",
   "execution_count": null,
   "id": "c7cd9b98",
   "metadata": {},
   "outputs": [],
   "source": [
    "import numpy as np\n",
    "import pandas as pd\n",
    "import tracktor as tr\n",
    "import cv2\n",
    "import sys\n",
    "import matplotlib.pyplot as plt\n",
    "from sklearn.cluster import KMeans\n",
    "from scipy.optimize import linear_sum_assignment\n",
    "from scipy.spatial.distance import cdist"
   ]
  },
  {
   "cell_type": "code",
   "execution_count": null,
   "id": "293e8df9",
   "metadata": {},
   "outputs": [],
   "source": [
    "# This function will take in certain parameters and output three things\n",
    "# 1) A plot showing the distance between two shrimp over time\n",
    "# 2) A print statement that defines when important things are occuring\n",
    "# 3) A dataframe with every timestamp and distance for further manipulation\n",
    "\n",
    "\n",
    "# Parameters defined below\n",
    "# dataframe - will be the raw outputted dataframe from tracktor (usually called df)\n",
    "# fps - frames per second of the video (usually 60)\n",
    "# id1 - the id of the first shrimp you want to track (usually 1, 2, 3, etc...)\n",
    "# id2 - the id of the second shrimp you want to track how close it gets to the first\n",
    "# threshold - the maximum distance between two animals where their interaction is deemed 'important'\n",
    "\n",
    "def dist_between(dataframe, fps, id1, id2, threshold):   \n",
    "    # This will subset our dataframe into one with just the two animals we care about\n",
    "    dataframe = dataframe[(dataframe[\"id\"] == id1) | (dataframe[\"id\"] == id2)]\n",
    "\n",
    "    # For tracktor purposes (ignore this)\n",
    "    for idx, ID in enumerate(np.unique(dataframe['id'])):\n",
    "        dataframe['id'][dataframe['id'] == ID] = idx\n",
    "        \n",
    "    # Calculating the distance between shrimp 1 and shrimp 2     \n",
    "    distances = []\n",
    "    for fr in np.unique(dataframe['frame']):\n",
    "        tmp = dataframe[dataframe['frame'] == fr]\n",
    "        x = tmp[tmp['id'] == 0]['pos_x'].values[0] - tmp[tmp['id'] == 1]['pos_x'].values[0]\n",
    "        y = tmp[tmp['id'] == 0]['pos_y'].values[0] - tmp[tmp['id'] == 1]['pos_y'].values[0]\n",
    "        distances.append(np.sqrt(x**2 + y**2))\n",
    "        \n",
    "    # Adding timestamps to our dataframe to make it easier to locate on the video    \n",
    "    timestamp = np.unique(dataframe['frame'])/fps\n",
    "    \n",
    "    # Creating a dataframe with the distance between two shrimp at what time\n",
    "    dist_df = pd.DataFrame([timestamp, distances]).transpose()\n",
    "    dist_df.columns = [\"Timestamp\", \"Distance\"]\n",
    "    \n",
    "    # Plotting the distance between the two shrimp over time\n",
    "    plt.scatter(np.unique(dataframe['frame'])/fps, distances, c='#32CD32', s=5, alpha=0.5)\n",
    "    plt.xlabel('Time (sec)', fontsize=16)\n",
    "    plt.ylabel('Distance Between Zebra ' + str(id1) + ' and ' + str(id2), fontsize=16)\n",
    "    plt.tight_layout()\n",
    "    plt.savefig('imgs/ex3_fig2.eps', format='eps', dpi=300)\n",
    "    plt.show()\n",
    "    \n",
    "    # Pritning our when our shrimp are at an \"important\" distance from each other \n",
    "    dist_df_imp = dist_df.loc[dist_df[\"Distance\"] < threshold, \"Timestamp\"]\n",
    "    print('Zebras ' + str(id1) + ' and ' + str(id2) + \" get close from \" \\\n",
    "          + str(dist_df_imp.min()) + \\\n",
    "          \" seconds to \" + str(dist_df_imp.max()))\n",
    "    \n",
    "    # Returns a dataframe of the distance and time for further manipulation\n",
    "    return dist_df"
   ]
  }
 ],
 "metadata": {
  "kernelspec": {
   "display_name": "Python 3 (ipykernel)",
   "language": "python",
   "name": "python3"
  },
  "language_info": {
   "codemirror_mode": {
    "name": "ipython",
    "version": 3
   },
   "file_extension": ".py",
   "mimetype": "text/x-python",
   "name": "python",
   "nbconvert_exporter": "python",
   "pygments_lexer": "ipython3",
   "version": "3.11.1"
  }
 },
 "nbformat": 4,
 "nbformat_minor": 5
}
