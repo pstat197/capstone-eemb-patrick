{
 "cells": [
  {
   "cell_type": "markdown",
   "id": "ecfb7dd8",
   "metadata": {},
   "source": [
    "# This script contains individual functions that can be helpful in timestamping\n",
    "\n",
    "## 1) A function that calculates distance between two shrimp\n",
    "## 2) A function that graphs the distance between two shrimp over time\n",
    "## 3) A function that generates important time ranges when shrimp are close\n",
    "## 4) A function that generates important timestamps when shrimp are close"
   ]
  },
  {
   "cell_type": "markdown",
   "id": "c8c015b1",
   "metadata": {},
   "source": [
    "#### Before anything, load necessary packages and necessary data"
   ]
  },
  {
   "cell_type": "code",
   "execution_count": 16,
   "id": "838ab7e8",
   "metadata": {},
   "outputs": [],
   "source": [
    "# Load packages\n",
    "\n",
    "import numpy as np\n",
    "import pandas as pd\n",
    "import tracktor as tr\n",
    "import seaborn as sns\n",
    "import plotly.express as px\n",
    "import cv2\n",
    "import sys\n",
    "import matplotlib.pyplot as plt\n",
    "from sklearn.cluster import KMeans\n",
    "from scipy.optimize import linear_sum_assignment\n",
    "from scipy.spatial.distance import cdist"
   ]
  },
  {
   "cell_type": "code",
   "execution_count": null,
   "id": "309fb867",
   "metadata": {},
   "outputs": [],
   "source": [
    "# Load dataframe\n",
    "\n",
    "df = pd.read_csv(\"Insert CSV File here\")"
   ]
  },
  {
   "cell_type": "markdown",
   "id": "9f037958",
   "metadata": {},
   "source": [
    "### 1) A function that calculates distance between two shrimp"
   ]
  },
  {
   "cell_type": "code",
   "execution_count": 2,
   "id": "fa62a0f2",
   "metadata": {},
   "outputs": [],
   "source": [
    "# Define distance function\n",
    "\n",
    "def dist_between(dataframe, fps):  \n",
    "    # For tracktor purposes (ignore this)\n",
    "    for idx, ID in enumerate(np.unique(dataframe['id'])):\n",
    "        dataframe['id'][dataframe['id'] == ID] = idx\n",
    "       \n",
    "    # Calculating the distance between shrimp 1 and shrimp 2 \n",
    "    distances = []\n",
    "    for fr in np.unique(dataframe['frame']):\n",
    "        tmp = dataframe[dataframe['frame'] == fr]\n",
    "        x = tmp[tmp['id'] == 0]['pos_x'].values[0] - tmp[tmp['id'] == 1]['pos_x'].values[0]\n",
    "        y = tmp[tmp['id'] == 0]['pos_y'].values[0] - tmp[tmp['id'] == 1]['pos_y'].values[0]\n",
    "        distances.append(np.sqrt(x**2 + y**2))\n",
    "    \n",
    "    # Adding timestamps to our dataframe to make it easier to locate on the video \n",
    "    timestamp = np.unique(dataframe['frame'])/fps\n",
    "    frame = np.unique(dataframe[\"frame\"])\n",
    "    \n",
    "    # Creating a dataframe with the distance between two shrimp at what time\n",
    "    dist_df = pd.DataFrame([frame, timestamp, distances]).transpose()\n",
    "    dist_df.columns = [\"Frame\", \"Timestamp\", \"Distance\"]\n",
    "    \n",
    "    return dist_df"
   ]
  },
  {
   "cell_type": "code",
   "execution_count": 5,
   "id": "397aad2d",
   "metadata": {},
   "outputs": [],
   "source": [
    "# Test on your dataframe to see results, frames per second will usually be 60\n",
    "dist_between(df, 60)"
   ]
  },
  {
   "cell_type": "code",
   "execution_count": null,
   "id": "ca999042",
   "metadata": {},
   "outputs": [],
   "source": [
    "# To save the results for further use\n",
    "df_dist = dist_between(df, 60)"
   ]
  },
  {
   "cell_type": "markdown",
   "id": "fd525f01",
   "metadata": {},
   "source": [
    "### 2) A function that graphs the distance between two shrimp over time"
   ]
  },
  {
   "cell_type": "code",
   "execution_count": 6,
   "id": "ad2db3e0",
   "metadata": {},
   "outputs": [],
   "source": [
    "# Define graphing function, uses the dataframe of the distances we just created\n",
    "\n",
    "def graph_dist(df_dist):\n",
    "    plt.scatter(df_dist[\"Timestamp\"], df_dist[\"Distance\"], c='#FF7F50', s=5, alpha=0.5)\n",
    "    plt.xlabel('Time (s)', fontsize=16)\n",
    "    plt.ylabel('Distance', fontsize=16)\n",
    "    plt.tight_layout()\n",
    "    plt.show()"
   ]
  },
  {
   "cell_type": "code",
   "execution_count": null,
   "id": "bfea0440",
   "metadata": {},
   "outputs": [],
   "source": [
    "# Test on your dataframe to see visualized results, helpful to get an idea of the shrimp's movement\n",
    "graph_dist(df_dist)"
   ]
  },
  {
   "cell_type": "code",
   "execution_count": null,
   "id": "a61d515c",
   "metadata": {},
   "outputs": [],
   "source": [
    "# To save the results for further use\n",
    "dist_graph = graph_dist(df_dist)"
   ]
  },
  {
   "cell_type": "markdown",
   "id": "4d172bc2",
   "metadata": {},
   "source": [
    "### 3) A function that generates important frame ranges when shrimp are close"
   ]
  },
  {
   "cell_type": "code",
   "execution_count": 10,
   "id": "e3653015",
   "metadata": {},
   "outputs": [],
   "source": [
    "# Define important frame generation function\n",
    "\n",
    "def important_frame_range(df, dist_cutoff):\n",
    "    # Create a new column \"Previous\" that includes the distance between two shrimp in the previous frame\n",
    "    df[\"Previous\"] = df[\"Distance\"].shift(1)\n",
    "    \n",
    "    # Define evaluation statements for our function to see whether shrimp are exiting or entering \"importance\"\n",
    "    enter_eval = \"Distance <= \" + str(dist_cutoff) + \" and not (Previous <= \" + str(dist_cutoff) + \")\"\n",
    "    exit_eval = \"Previous <= \" + str(dist_cutoff) + \" and not (Distance <= \" + str(dist_cutoff) + \")\"\n",
    "    \n",
    "    # Creating new columns \"entering\" and \"exiting\" for intervals\n",
    "    df[\"Enter\"] = df.eval(enter_eval).cumsum()\n",
    "    df[\"Exit\"] = df.eval(exit_eval).shift(-1).fillna(True).cumsum()   \n",
    "    df_temp = df.merge(df.drop_duplicates(\"Exit\", keep = \"first\")[[\"Frame\", \"Exit\"]],\n",
    "                          left_on = \"Enter\", right_on = \"Exit\", how = \"left\", suffixes = [\"\", \"_end\"])\n",
    "\n",
    "    # Identify unique time ranges of entering and exiting importance\n",
    "    df_temp = df_temp.drop_duplicates(subset = \"Enter\", keep = \"first\")[[\"Frame\", \"Frame_end\"]]\n",
    "    return df_temp"
   ]
  },
  {
   "cell_type": "code",
   "execution_count": null,
   "id": "a0553ab5",
   "metadata": {},
   "outputs": [],
   "source": [
    "# Test on your dataframe to see results, helpful to see the frames\n",
    "important_frame_range(df_dist, dist_cutoff)"
   ]
  },
  {
   "cell_type": "code",
   "execution_count": null,
   "id": "0174a9cc",
   "metadata": {},
   "outputs": [],
   "source": [
    "# To save the results for further use\n",
    "frames_imp = important_frame_range(df_dist, dist_cutoff)"
   ]
  },
  {
   "cell_type": "markdown",
   "id": "da142a83",
   "metadata": {},
   "source": [
    "### 4) A function that generates important timestamps when shrimp are close"
   ]
  },
  {
   "cell_type": "code",
   "execution_count": null,
   "id": "94d675d3",
   "metadata": {},
   "outputs": [],
   "source": [
    "# Define important timestamp generation function\n",
    "\n",
    "def important_timestamps(df, dist_cutoff):\n",
    "    # Create a new column \"Previous\" that includes the distance between two shrimp in the previous frame\n",
    "    df[\"Previous\"] = df[\"Distance\"].shift(1)\n",
    "    \n",
    "    # Define evaluation statements for our function to see whether shrimp are exiting or entering \"importance\"\n",
    "    enter_eval = \"Distance <= \" + str(dist_cutoff) + \" and not (Previous <= \" + str(dist_cutoff) + \")\"\n",
    "    exit_eval = \"Previous <= \" + str(dist_cutoff) + \" and not (Distance <= \" + str(dist_cutoff) + \")\"\n",
    "    \n",
    "    # Creating new columns \"entering\" and \"exiting\" for intervals\n",
    "    df[\"Enter\"] = df.eval(enter_eval).cumsum()\n",
    "    df[\"Exit\"] = df.eval(exit_eval).shift(-1).fillna(True).cumsum()   \n",
    "    df_temp = df.merge(df.drop_duplicates(\"Exit\", keep = \"first\")[[\"Timestamp\", \"Exit\"]],\n",
    "                          left_on = \"Enter\", right_on = \"Exit\", how = \"left\", suffixes = [\"\", \"_end\"])\n",
    "\n",
    "    # Identify unique time ranges of entering and exiting importance\n",
    "    df_temp = df_temp.drop_duplicates(subset = \"Enter\", keep = \"first\")[[\"Timestamp\", \"Timestamp_end\"]]\n",
    "    return df_temp"
   ]
  },
  {
   "cell_type": "code",
   "execution_count": null,
   "id": "3e3343a0",
   "metadata": {},
   "outputs": [],
   "source": [
    "# Test on your dataframe to see results, helpful to see the seconds of video to go to\n",
    "important_timestamps(df_dist, dist_cutoff)"
   ]
  },
  {
   "cell_type": "code",
   "execution_count": null,
   "id": "1ee39436",
   "metadata": {},
   "outputs": [],
   "source": [
    "# To save the results for further use\n",
    "seconds_imp = important_timestamps(df_dist, dist_cutoff)"
   ]
  },
  {
   "cell_type": "markdown",
   "id": "5e0397a4",
   "metadata": {},
   "source": [
    "### 5) A function that generates a new dataframe with only important frames"
   ]
  },
  {
   "cell_type": "code",
   "execution_count": 9,
   "id": "d7f817b6",
   "metadata": {},
   "outputs": [],
   "source": [
    "# Define function that generates a new dataframe with all \"important frames\"\n",
    "\n",
    "def new_important_df(df, dist_cutoff):\n",
    "    df_imp = df.loc[(df[\"Distance\"] < dist_cutoff)]\n",
    "    return df_imp"
   ]
  },
  {
   "cell_type": "code",
   "execution_count": null,
   "id": "bc11911b",
   "metadata": {},
   "outputs": [],
   "source": [
    "# Test on your dataframe to see results, will return just all frames\n",
    "df_dist = dist_between(df, 60)\n",
    "\n",
    "new_important_df(df_dist, dist_cutoff)"
   ]
  },
  {
   "cell_type": "code",
   "execution_count": null,
   "id": "fbd2653d",
   "metadata": {},
   "outputs": [],
   "source": [
    "# To save the results for further use\n",
    "df_imp = new_important_df(df_dist, dist_cutoff)"
   ]
  },
  {
   "cell_type": "markdown",
   "id": "ceb0f283",
   "metadata": {},
   "source": [
    "### Saving these dataframes to your computer"
   ]
  },
  {
   "cell_type": "code",
   "execution_count": 11,
   "id": "89e8607e",
   "metadata": {},
   "outputs": [],
   "source": [
    "# First, establish what you want your file to be called\n",
    "file_name = \"Insert File Name Here\"\n",
    "\n",
    "# Creating the output filepath of where want it to be store\n",
    "output_filepath = \"Insert Folder Path Here/\" + file_name + \"_Whatever your dataframe is.csv\""
   ]
  },
  {
   "cell_type": "code",
   "execution_count": 12,
   "id": "67e684c9",
   "metadata": {},
   "outputs": [
    {
     "ename": "NameError",
     "evalue": "name 'time_imp' is not defined",
     "output_type": "error",
     "traceback": [
      "\u001b[0;31m---------------------------------------------------------------------------\u001b[0m",
      "\u001b[0;31mNameError\u001b[0m                                 Traceback (most recent call last)",
      "Cell \u001b[0;32mIn[12], line 12\u001b[0m\n\u001b[1;32m      9\u001b[0m output_filepath \u001b[38;5;241m=\u001b[39m \u001b[38;5;124m\"\u001b[39m\u001b[38;5;124m/Users/lukefields/Desktop/Shrimp-Capstone/shrimp_data_out/\u001b[39m\u001b[38;5;124m\"\u001b[39m \u001b[38;5;241m+\u001b[39m file_name \u001b[38;5;241m+\u001b[39m \u001b[38;5;124m\"\u001b[39m\u001b[38;5;124m_timestamps.csv\u001b[39m\u001b[38;5;124m\"\u001b[39m\n\u001b[1;32m     11\u001b[0m \u001b[38;5;66;03m# Finally, I would write our python dataframe (name above) to a csv file with the path directly above as follows\u001b[39;00m\n\u001b[0;32m---> 12\u001b[0m \u001b[43mtime_imp\u001b[49m\u001b[38;5;241m.\u001b[39mto_csv(output_filepath, sep\u001b[38;5;241m=\u001b[39m\u001b[38;5;124m'\u001b[39m\u001b[38;5;124m,\u001b[39m\u001b[38;5;124m'\u001b[39m)\n\u001b[1;32m     14\u001b[0m \u001b[38;5;66;03m# And you should see your file in your data folder\u001b[39;00m\n",
      "\u001b[0;31mNameError\u001b[0m: name 'time_imp' is not defined"
     ]
    }
   ],
   "source": [
    "##### To further exemplify the process above, here is an example:\n",
    "# Let's say I was working with a video of shrimp interacting on March 2nd, and the dataframe was called time_imp\n",
    "# in python, and I wanted to store this data of important timestamps in my shrimp data folder\n",
    "\n",
    "# First, I would define the file name as something that is easily understandable, like Shrimp 0302\n",
    "file_name = \"shrimp_0302\"\n",
    "\n",
    "# Then, I would define the output filepath as\n",
    "output_filepath = \"/Users/lukefields/Desktop/Shrimp-Capstone/shrimp_data_out/\" + file_name + \"_timestamps.csv\"\n",
    "\n",
    "# Finally, I would write our python dataframe (name above) to a csv file with the path directly above as follows\n",
    "time_imp.to_csv(output_filepath, sep=',')\n",
    "\n",
    "# And you should see your file in your data folder"
   ]
  },
  {
   "cell_type": "code",
   "execution_count": null,
   "id": "d1786af0",
   "metadata": {},
   "outputs": [],
   "source": []
  }
 ],
 "metadata": {
  "kernelspec": {
   "display_name": "Python 3 (ipykernel)",
   "language": "python",
   "name": "python3"
  },
  "language_info": {
   "codemirror_mode": {
    "name": "ipython",
    "version": 3
   },
   "file_extension": ".py",
   "mimetype": "text/x-python",
   "name": "python",
   "nbconvert_exporter": "python",
   "pygments_lexer": "ipython3",
   "version": "3.11.1"
  }
 },
 "nbformat": 4,
 "nbformat_minor": 5
}
