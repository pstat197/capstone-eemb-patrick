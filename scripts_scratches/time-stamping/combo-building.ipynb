{
 "cells": [
  {
   "cell_type": "code",
   "execution_count": 1,
   "id": "787e22c7",
   "metadata": {},
   "outputs": [],
   "source": [
    "import numpy as np\n",
    "import pandas as pd\n",
    "import tracktor as tr\n",
    "import matplotlib.pyplot as plt\n",
    "import cv2\n",
    "import sys\n",
    "from sklearn.cluster import KMeans\n",
    "from scipy.optimize import linear_sum_assignment\n",
    "from scipy.spatial.distance import cdist"
   ]
  },
  {
   "cell_type": "code",
   "execution_count": 2,
   "id": "95d4d72a",
   "metadata": {},
   "outputs": [
    {
     "data": {
      "text/html": [
       "<div>\n",
       "<style scoped>\n",
       "    .dataframe tbody tr th:only-of-type {\n",
       "        vertical-align: middle;\n",
       "    }\n",
       "\n",
       "    .dataframe tbody tr th {\n",
       "        vertical-align: top;\n",
       "    }\n",
       "\n",
       "    .dataframe thead th {\n",
       "        text-align: right;\n",
       "    }\n",
       "</style>\n",
       "<table border=\"1\" class=\"dataframe\">\n",
       "  <thead>\n",
       "    <tr style=\"text-align: right;\">\n",
       "      <th></th>\n",
       "      <th>Unnamed: 0</th>\n",
       "      <th>frame</th>\n",
       "      <th>pos_x</th>\n",
       "      <th>pos_y</th>\n",
       "      <th>id</th>\n",
       "    </tr>\n",
       "  </thead>\n",
       "  <tbody>\n",
       "    <tr>\n",
       "      <th>0</th>\n",
       "      <td>0</td>\n",
       "      <td>3.0</td>\n",
       "      <td>783.514170</td>\n",
       "      <td>62.967611</td>\n",
       "      <td>A</td>\n",
       "    </tr>\n",
       "    <tr>\n",
       "      <th>1</th>\n",
       "      <td>1</td>\n",
       "      <td>3.0</td>\n",
       "      <td>174.192848</td>\n",
       "      <td>60.541507</td>\n",
       "      <td>B</td>\n",
       "    </tr>\n",
       "    <tr>\n",
       "      <th>2</th>\n",
       "      <td>2</td>\n",
       "      <td>3.0</td>\n",
       "      <td>303.360000</td>\n",
       "      <td>119.509630</td>\n",
       "      <td>C</td>\n",
       "    </tr>\n",
       "    <tr>\n",
       "      <th>3</th>\n",
       "      <td>3</td>\n",
       "      <td>3.0</td>\n",
       "      <td>193.814035</td>\n",
       "      <td>293.143860</td>\n",
       "      <td>D</td>\n",
       "    </tr>\n",
       "    <tr>\n",
       "      <th>4</th>\n",
       "      <td>4</td>\n",
       "      <td>3.0</td>\n",
       "      <td>226.002179</td>\n",
       "      <td>333.840959</td>\n",
       "      <td>E</td>\n",
       "    </tr>\n",
       "  </tbody>\n",
       "</table>\n",
       "</div>"
      ],
      "text/plain": [
       "   Unnamed: 0  frame       pos_x       pos_y id\n",
       "0           0    3.0  783.514170   62.967611  A\n",
       "1           1    3.0  174.192848   60.541507  B\n",
       "2           2    3.0  303.360000  119.509630  C\n",
       "3           3    3.0  193.814035  293.143860  D\n",
       "4           4    3.0  226.002179  333.840959  E"
      ]
     },
     "execution_count": 2,
     "metadata": {},
     "output_type": "execute_result"
    }
   ],
   "source": [
    "df = pd.read_csv(\"/Users/lukefields/Desktop/Shrimp-Capstone/tracktor-master/output/zebrafish_video_tracked.csv\")\n",
    "df.head()"
   ]
  },
  {
   "cell_type": "markdown",
   "id": "9845aba4",
   "metadata": {},
   "source": [
    "### Now, we want to generate a dataframe that has all 25 different combos (the distance between 1 and 1, the distance between 1 and 2, ...., the distance between 5 and 5) \n",
    "### So, we want a dataframe that has two columns (one being the combo index, the other being the actual combo (i.e. AA) \n",
    "### Then, we will iterate through that"
   ]
  },
  {
   "cell_type": "code",
   "execution_count": 3,
   "id": "10c71459",
   "metadata": {},
   "outputs": [
    {
     "name": "stdout",
     "output_type": "stream",
     "text": [
      "['A' 'B' 'C' 'D' 'E']\n"
     ]
    }
   ],
   "source": [
    "# This outputs all of the unique ids in our dataset\n",
    "# In other words, if we ware working with 4 shrimp, we would get ids 1, 2, 3, 4\n",
    "# If we are working with 5 shrimp labeled by letters, we would get ids A, B, C, D, E\n",
    "\n",
    "diff_ids = df[\"id\"].unique()\n",
    "print(diff_ids)"
   ]
  },
  {
   "cell_type": "markdown",
   "id": "5bafc1c8",
   "metadata": {},
   "source": [
    "##### We will use the itertools package in order to create the different combos between shrimp"
   ]
  },
  {
   "cell_type": "code",
   "execution_count": 4,
   "id": "badb94d9",
   "metadata": {
    "scrolled": true
   },
   "outputs": [
    {
     "name": "stdout",
     "output_type": "stream",
     "text": [
      "('A', 'A')\n",
      "('A', 'B')\n",
      "('A', 'C')\n",
      "('A', 'D')\n",
      "('A', 'E')\n",
      "('B', 'A')\n",
      "('B', 'B')\n",
      "('B', 'C')\n",
      "('B', 'D')\n",
      "('B', 'E')\n",
      "('C', 'A')\n",
      "('C', 'B')\n",
      "('C', 'C')\n",
      "('C', 'D')\n",
      "('C', 'E')\n",
      "('D', 'A')\n",
      "('D', 'B')\n",
      "('D', 'C')\n",
      "('D', 'D')\n",
      "('D', 'E')\n",
      "('E', 'A')\n",
      "('E', 'B')\n",
      "('E', 'C')\n",
      "('E', 'D')\n",
      "('E', 'E')\n",
      "('A', 'B')\n",
      "('A', 'C')\n",
      "('A', 'D')\n",
      "('A', 'E')\n",
      "('B', 'A')\n",
      "('B', 'C')\n",
      "('B', 'D')\n",
      "('B', 'E')\n",
      "('C', 'A')\n",
      "('C', 'B')\n",
      "('C', 'D')\n",
      "('C', 'E')\n",
      "('D', 'A')\n",
      "('D', 'B')\n",
      "('D', 'C')\n",
      "('D', 'E')\n",
      "('E', 'A')\n",
      "('E', 'B')\n",
      "('E', 'C')\n",
      "('E', 'D')\n",
      "('A', 'A')\n",
      "('A', 'B')\n",
      "('A', 'C')\n",
      "('A', 'D')\n",
      "('A', 'E')\n",
      "('B', 'B')\n",
      "('B', 'C')\n",
      "('B', 'D')\n",
      "('B', 'E')\n",
      "('C', 'C')\n",
      "('C', 'D')\n",
      "('C', 'E')\n",
      "('D', 'D')\n",
      "('D', 'E')\n",
      "('E', 'E')\n",
      "('A', 'B')\n",
      "('A', 'C')\n",
      "('A', 'D')\n",
      "('A', 'E')\n",
      "('B', 'C')\n",
      "('B', 'D')\n",
      "('B', 'E')\n",
      "('C', 'D')\n",
      "('C', 'E')\n",
      "('D', 'E')\n"
     ]
    }
   ],
   "source": [
    "# Products\n",
    "# unique combos (yields 25)\n",
    "from itertools import product\n",
    "for combo in product(diff_ids, repeat = 2):  # 2 for pairs, 3 for triplets, etc\n",
    "    print(combo)\n",
    "    \n",
    "    \n",
    "    \n",
    "# Permutations\n",
    "# unique combos (yields 20)\n",
    "from itertools import permutations\n",
    "for combo in permutations(diff_ids, 2):  # 2 for pairs, 3 for triplets, etc\n",
    "    print(combo)\n",
    "\n",
    "    \n",
    "    \n",
    "# Combinations with replacement\n",
    "# unique combos (yields 15)\n",
    "from itertools import combinations_with_replacement\n",
    "for combo in combinations_with_replacement(diff_ids, 2):  # 2 for pairs, 3 for triplets, etc\n",
    "    print(combo)\n",
    "    \n",
    "\n",
    "    \n",
    "# Combinations with no replacement\n",
    "# unique combos (Yields 10 for 5 shrimp), we will want this\n",
    "from itertools import combinations\n",
    "for combo in combinations(diff_ids, 2):  # 2 for pairs, 3 for triplets, etc\n",
    "    print(combo)"
   ]
  },
  {
   "cell_type": "code",
   "execution_count": 5,
   "id": "c62f1e94",
   "metadata": {},
   "outputs": [
    {
     "name": "stdout",
     "output_type": "stream",
     "text": [
      "[('A', 'B'), ('A', 'C'), ('A', 'D'), ('A', 'E'), ('B', 'C'), ('B', 'D'), ('B', 'E'), ('C', 'D'), ('C', 'E'), ('D', 'E')]\n"
     ]
    },
    {
     "data": {
      "text/plain": [
       "10"
      ]
     },
     "execution_count": 5,
     "metadata": {},
     "output_type": "execute_result"
    }
   ],
   "source": [
    "# This gets an array of all of the different combos\n",
    "\n",
    "zebra_combo = []\n",
    "for combo in combinations(diff_ids, 2):  # 2 for pairs, 3 for triplets, etc\n",
    "    zebra_combo.append(combo)\n",
    "    \n",
    "print(zebra_combo)\n",
    "len(zebra_combo)"
   ]
  },
  {
   "cell_type": "code",
   "execution_count": 6,
   "id": "6044cad7",
   "metadata": {},
   "outputs": [
    {
     "data": {
      "text/plain": [
       "tuple"
      ]
     },
     "execution_count": 6,
     "metadata": {},
     "output_type": "execute_result"
    }
   ],
   "source": [
    "type((\"A\", \"B\"))"
   ]
  },
  {
   "cell_type": "code",
   "execution_count": 7,
   "id": "08c2789d",
   "metadata": {},
   "outputs": [
    {
     "data": {
      "text/plain": [
       "'B'"
      ]
     },
     "execution_count": 7,
     "metadata": {},
     "output_type": "execute_result"
    }
   ],
   "source": [
    "ex = (\"A\", \"B\")\n",
    "first = ex[0]\n",
    "second = ex[1]\n",
    "second"
   ]
  },
  {
   "cell_type": "code",
   "execution_count": 9,
   "id": "b950acd8",
   "metadata": {},
   "outputs": [
    {
     "data": {
      "text/plain": [
       "'B'"
      ]
     },
     "execution_count": 9,
     "metadata": {},
     "output_type": "execute_result"
    }
   ],
   "source": [
    "zebra_combo[0][0]\n",
    "zebra_combo[0][1]"
   ]
  },
  {
   "cell_type": "markdown",
   "id": "10a9d1ad",
   "metadata": {},
   "source": [
    "#### Let's try and build this function, eh?"
   ]
  },
  {
   "cell_type": "code",
   "execution_count": 27,
   "id": "079aa3c1",
   "metadata": {
    "scrolled": false
   },
   "outputs": [
    {
     "name": "stdout",
     "output_type": "stream",
     "text": [
      "The first id is A and the second id is B\n",
      "The first id is A and the second id is C\n",
      "The first id is A and the second id is D\n",
      "The first id is A and the second id is E\n",
      "The first id is B and the second id is C\n",
      "The first id is B and the second id is D\n",
      "The first id is B and the second id is E\n",
      "The first id is C and the second id is D\n",
      "The first id is C and the second id is E\n",
      "The first id is D and the second id is E\n"
     ]
    }
   ],
   "source": [
    "# This for loop assigns shrimp ids by iterating through the tuple\n",
    "for pair in zebra_combo:\n",
    "    id1 = pair[0]\n",
    "    id2 = pair[1]"
   ]
  },
  {
   "cell_type": "markdown",
   "id": "49f9a797",
   "metadata": {},
   "source": [
    "#### Let's start with a function that takes in a dataframe and creates all of the unique combos"
   ]
  },
  {
   "cell_type": "code",
   "execution_count": 28,
   "id": "38a76b91",
   "metadata": {},
   "outputs": [
    {
     "data": {
      "text/plain": [
       "[('A', 'B'),\n",
       " ('A', 'C'),\n",
       " ('A', 'D'),\n",
       " ('A', 'E'),\n",
       " ('B', 'C'),\n",
       " ('B', 'D'),\n",
       " ('B', 'E'),\n",
       " ('C', 'D'),\n",
       " ('C', 'E'),\n",
       " ('D', 'E')]"
      ]
     },
     "execution_count": 28,
     "metadata": {},
     "output_type": "execute_result"
    }
   ],
   "source": [
    "def master_funct_combo(dataframe):\n",
    "    diff_ids = df[\"id\"].unique()\n",
    "    shrimp_combo = []\n",
    "    for combo in combinations(diff_ids, 2):  # 2 for pairs, 3 for triplets, etc\n",
    "        shrimp_combo.append(combo)\n",
    "        \n",
    "    return shrimp_combo\n",
    "        \n",
    "master_funct_combo(df)"
   ]
  },
  {
   "cell_type": "markdown",
   "id": "e0f2ddca",
   "metadata": {},
   "source": [
    "#### Ok, mission accomplished there, now let's start assembling our function in its entirety"
   ]
  },
  {
   "cell_type": "code",
   "execution_count": 35,
   "id": "469bba93",
   "metadata": {},
   "outputs": [],
   "source": [
    "from itertools import combinations\n",
    "# output_filepath = '/Users/lukefields/Desktop/Shrimp-Capstone/tracktor-master/videos/' + video + '_tracked.csv'\n",
    "# Output filepath will be something like the template below\n",
    "# \"/Users/yourname/Desktop/shripfolder/where-ever-it-is-you-want-your-output/\" + shrimp1 + shrimp2 + \"_distances.csv\"\n",
    "# Or a realized version, Luke Fields's specific file path for where he wants the output\n",
    "# \"/Users/lukefields/Desktop/Shrimp-Capstone/tracktor-master/output/zebrafish_video_tracked.csv\"\n",
    "\n",
    "def master_funct_combo(dataframe, output_filepath):\n",
    "    diff_ids = dataframe[\"id\"].unique()\n",
    "    shrimp_combo = []\n",
    "    for combo in combinations(diff_ids, 2):  # 2 for pairs, 3 for triplets, etc\n",
    "        shrimp_combo.append(combo)\n",
    "    \n",
    "    for pair in shrimp_combo:\n",
    "        shrimpX = pair[0]\n",
    "        shrimpY = pair[1]\n",
    "        \n",
    "        # This will subset our dataframe into one with just the two animals we care about\n",
    "        dataframe = dataframe[(dataframe[\"id\"] == shrimpX) | (dataframe[\"id\"] == shrimpY)]\n",
    "\n",
    "        for idx, ID in enumerate(np.unique(dataframe['id'])):\n",
    "            dataframe['id'][dataframe['id'] == ID] = idx\n",
    "\n",
    "        distances = []\n",
    "        for fr in np.unique(dataframe['frame']):\n",
    "            tmp = dataframe[dataframe['frame'] == fr]\n",
    "            x = tmp[tmp['id'] == 0]['pos_x'].values[0] - tmp[tmp['id'] == 1]['pos_x'].values[0]\n",
    "            y = tmp[tmp['id'] == 0]['pos_y'].values[0] - tmp[tmp['id'] == 1]['pos_y'].values[0]\n",
    "            distances.append(np.sqrt(x**2 + y**2))\n",
    "\n",
    "        timestamp = np.unique(dataframe['frame'])/fps\n",
    "        \n",
    "        pair_list = []\n",
    "        for i in range(len(distances)):\n",
    "            pair_list.append(pair)\n",
    "\n",
    "        dist_df = pd.DataFrame([pair_list, timestamp, distances]).transpose()\n",
    "        dist_df.columns = [\"Pair\", \"Timestamp\", \"Distance\"]\n",
    "        \n",
    "        new_output_filepath = output_filepath + str(shrimpX) + str(shrimpY) + \"_distances.csv\"\n",
    "\n",
    "        dist_df.to_csv(output_filepath, sep=',')"
   ]
  },
  {
   "cell_type": "markdown",
   "id": "ba72104c",
   "metadata": {},
   "source": [
    "#### Ok, and now let's try and do some work on those individual functions"
   ]
  },
  {
   "cell_type": "code",
   "execution_count": null,
   "id": "b4b68c3b",
   "metadata": {},
   "outputs": [],
   "source": [
    "def dist_between_combo(dataframe, fps): \n",
    "    id1 = zebra_combo[0]\n",
    "    id2 = zebra_combo[0]\n",
    "    \n",
    "    # This will subset our dataframe into one with just the two animals we care about\n",
    "    dataframe = dataframe[(dataframe[\"id\"] == id1) | (dataframe[\"id\"] == id2)]\n",
    "    \n",
    "    for idx, ID in enumerate(np.unique(dataframe['id'])):\n",
    "        dataframe['id'][dataframe['id'] == ID] = idx\n",
    "        \n",
    "    distances = []\n",
    "    for fr in np.unique(dataframe['frame']):\n",
    "        tmp = dataframe[dataframe['frame'] == fr]\n",
    "        x = tmp[tmp['id'] == 0]['pos_x'].values[0] - tmp[tmp['id'] == 1]['pos_x'].values[0]\n",
    "        y = tmp[tmp['id'] == 0]['pos_y'].values[0] - tmp[tmp['id'] == 1]['pos_y'].values[0]\n",
    "        distances.append(np.sqrt(x**2 + y**2))\n",
    "        \n",
    "    timestamp = np.unique(dataframe['frame'])/fps\n",
    "    \n",
    "    dist_df = pd.DataFrame([timestamp, distances]).transpose()\n",
    "    dist_df.columns = [\"Timestamp\", \"Distance\"]\n",
    "    \n",
    "    plt.scatter(np.unique(dataframe['frame'])/fps, distances, c='#32CD32', s=5, alpha=0.5)\n",
    "    plt.xlabel('Time (sec)', fontsize=16)\n",
    "    plt.ylabel('Distance from Each Other', fontsize=16)\n",
    "    plt.tight_layout()\n",
    "    plt.savefig('imgs/ex3_fig2.eps', format='eps', dpi=300)\n",
    "    plt.show()\n",
    "    print(dist_df.head())\n",
    "    \n",
    "    return dist_df"
   ]
  },
  {
   "cell_type": "code",
   "execution_count": null,
   "id": "cb976def",
   "metadata": {},
   "outputs": [],
   "source": [
    "def master_funct(dataframe, fps):\n",
    "    for pair in shrimp_combo"
   ]
  }
 ],
 "metadata": {
  "kernelspec": {
   "display_name": "Python 3 (ipykernel)",
   "language": "python",
   "name": "python3"
  },
  "language_info": {
   "codemirror_mode": {
    "name": "ipython",
    "version": 3
   },
   "file_extension": ".py",
   "mimetype": "text/x-python",
   "name": "python",
   "nbconvert_exporter": "python",
   "pygments_lexer": "ipython3",
   "version": "3.11.1"
  }
 },
 "nbformat": 4,
 "nbformat_minor": 5
}
