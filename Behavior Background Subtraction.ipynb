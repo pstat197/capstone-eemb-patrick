{
 "cells": [
  {
   "cell_type": "code",
   "execution_count": null,
   "id": "04e57d71",
   "metadata": {},
   "outputs": [],
   "source": [
    "import cv2 as cv\n",
    "import numpy as np \n",
    "import matplotlib.pyplot as plt"
   ]
  },
  {
   "cell_type": "code",
   "execution_count": null,
   "id": "160e4a69",
   "metadata": {},
   "outputs": [],
   "source": [
    "# Load the video file\n",
    "cap = cv.VideoCapture(\"/Users/ashleyson/Desktop/coil/coil1.avi\")\n",
    "\n",
    "# Load the background image\n",
    "bg = cv.imread(\"/Users/ashleyson/Desktop/bg.tiff\")\n",
    "bg = cv.cvtColor(bg, cv.COLOR_BGR2GRAY)"
   ]
  },
  {
   "cell_type": "code",
   "execution_count": 3,
   "id": "274ca941",
   "metadata": {},
   "outputs": [],
   "source": [
    "while True:\n",
    "    # Read a frame from the video file\n",
    "    ret, img1 = cap.read()\n",
    "\n",
    "    # If the frame was not successfully read, break out of the loop\n",
    "    if not ret:\n",
    "        break\n",
    "\n",
    "    # Convert the frame to grayscale\n",
    "    img1 = cv.cvtColor(img1, cv.COLOR_BGR2GRAY)\n",
    "\n",
    "    # Compute the absolute difference between the background and the frame\n",
    "    delta = cv.absdiff(img1, bg)\n",
    "\n",
    "    # Apply morphological opening to the delta image\n",
    "    kernel = cv.getStructuringElement(cv.MORPH_ELLIPSE, (10, 10))\n",
    "    opened = cv.morphologyEx(delta, cv.MORPH_OPEN, kernel)\n",
    "\n",
    "    # Apply Gaussian blur to the opened image\n",
    "    kernel = cv.getStructuringElement(cv.MORPH_ELLIPSE, (23, 23))\n",
    "    blur = cv.GaussianBlur(opened, (23, 23), 0)\n",
    "\n",
    "    # Apply morphological closing to the blurred image\n",
    "    kernel = cv.getStructuringElement(cv.MORPH_ELLIPSE, (60, 60))\n",
    "    closed = cv.morphologyEx(blur, cv.MORPH_CLOSE, kernel)\n",
    "\n",
    "    # Threshold the closed image using Otsu's method\n",
    "    threshold = cv.threshold(closed, 135, 255, cv.THRESH_BINARY_INV+cv.THRESH_OTSU)[1]\n",
    "\n",
    "    # Apply the threshold as a mask to the original frame\n",
    "    x = img1.shape[0]\n",
    "    y = img1.shape[1]\n",
    "    for i in range(x):\n",
    "        for j in range(y):\n",
    "            if threshold[i][j] == 255:\n",
    "                img1[i][j] = 0\n",
    "\n",
    "    # Save the processed frame as a separate image\n",
    "    cv.imwrite(\"/Users/ashleyson/Desktop/hi/coil_frame%d.jpg\" % cap.get(cv.CAP_PROP_POS_FRAMES), img1)\n",
    "\n",
    "# Release the video capture object and close all windows\n",
    "cap.release()\n",
    "cv.destroyAllWindows()\n"
   ]
  }
 ],
 "metadata": {
  "kernelspec": {
   "display_name": "Python 3 (ipykernel)",
   "language": "python",
   "name": "python3"
  },
  "language_info": {
   "codemirror_mode": {
    "name": "ipython",
    "version": 3
   },
   "file_extension": ".py",
   "mimetype": "text/x-python",
   "name": "python",
   "nbconvert_exporter": "python",
   "pygments_lexer": "ipython3",
   "version": "3.9.13"
  }
 },
 "nbformat": 4,
 "nbformat_minor": 5
}
